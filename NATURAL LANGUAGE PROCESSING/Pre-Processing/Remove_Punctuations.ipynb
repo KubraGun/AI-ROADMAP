# with string lib
text = text.translate(str.maketrans("", "", string.punctuation))